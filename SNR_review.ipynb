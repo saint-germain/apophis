{
 "cells": [
  {
   "cell_type": "code",
   "execution_count": 1,
   "metadata": {
    "collapsed": true
   },
   "outputs": [],
   "source": [
    "import numpy as np\n",
    "import astropy.units as u\n",
    "import astropy.constants as c"
   ]
  },
  {
   "cell_type": "code",
   "execution_count": 2,
   "metadata": {
    "collapsed": true
   },
   "outputs": [],
   "source": [
    "def Gain(D,lam,ef):\n",
    "    A=np.pi*(D/2)**2\n",
    "    G=4*np.pi*ef*A/lam**2 # calculate gain \n",
    "    return G.cgs"
   ]
  },
  {
   "cell_type": "markdown",
   "metadata": {},
   "source": [
    "## HUSIR (TX) + GBT (RX) for tau = 1 s"
   ]
  },
  {
   "cell_type": "code",
   "execution_count": 3,
   "metadata": {},
   "outputs": [],
   "source": [
    "sig=0.023*u.km**2 # radar cross section (Brozovic)\n",
    "rtx=34000*u.km # distance to TX\n",
    "rrx=34000*u.km # distance to RX\n",
    "Dtx=36.3*u.m # TX diameter\n",
    "Drx=100*u.m # RX diameter\n",
    "Tsys=25*u.K # system temperature (RX)\n",
    "freq=10*1e9*u.Hz # transmission freq TX\n",
    "Ptx=25*1e3*u.W # transmission power TX\n",
    "tau=1*u.s # integration time\n",
    "omega=(11.7*u.deg).to(u.rad)/(u.rad*u.h) # angular frequency\n",
    "phi=0*u.deg # subradar latitude\n",
    "etx=0.72 # TX aperture efficiency\n",
    "erx=0.71 # RX aperture efficiency\n",
    "D=340*u.m/2 # asteroid radius\n",
    "\n",
    "lam=c.c/freq\n",
    "Gtx=Gain(Dtx,lam,etx) # TX gain\n",
    "Grx=Gain(Drx,lam,erx) # RX gain\n",
    "Prx=(Ptx*Gtx*Grx*lam**2*sig/((4*np.pi)**3*rtx**2*rrx**2)).si # calculate Prx \n",
    "\n",
    "bw=2*D*np.cos(phi)*omega/lam # Doppler bandwidth \n",
    "Nrms=(Tsys*c.k_B*np.sqrt(bw/tau)) # rms noise power\n",
    "SNR=(Prx/Nrms).si # return signal-to-noise ratio "
   ]
  },
  {
   "cell_type": "code",
   "execution_count": 4,
   "metadata": {},
   "outputs": [
    {
     "data": {
      "text/latex": [
       "$5.7181034 \\times 10^{8} \\; \\mathrm{}$"
      ],
      "text/plain": [
       "<Quantity 5.71810337e+08>"
      ]
     },
     "execution_count": 4,
     "metadata": {},
     "output_type": "execute_result"
    }
   ],
   "source": [
    "SNR"
   ]
  },
  {
   "cell_type": "markdown",
   "metadata": {},
   "source": [
    "## DSS-14 (TX) + GBT (RX) for tau = 1 s"
   ]
  },
  {
   "cell_type": "code",
   "execution_count": 9,
   "metadata": {
    "collapsed": true
   },
   "outputs": [],
   "source": [
    "sig=0.023*u.km**2 # radar cross section (Brozovic)\n",
    "rtx=34000*u.km # distance to TX\n",
    "rrx=34000*u.km # distance to RX\n",
    "Dtx=70*u.m # TX diameter\n",
    "Drx=36.3*u.m # RX diameter\n",
    "Tsys=25*u.K # system temperature (RX)\n",
    "freq=8.6*1e9*u.Hz # transmission freq TX\n",
    "Ptx=450*1e3*u.W # transmission power TX\n",
    "tau=1*u.s # integration time\n",
    "omega=(11.7*u.deg).to(u.rad)/(u.rad*u.h) # angular frequency\n",
    "phi=0*u.deg # subradar latitude\n",
    "etx=0.7 # TX aperture efficiency\n",
    "erx=0.7 # RX aperture efficiency\n",
    "D=340*u.m/2 # asteroid radius\n",
    "\n",
    "\n",
    "lam=c.c/freq\n",
    "Gtx=Gain(Dtx,lam,etx) # TX gain\n",
    "Grx=Gain(Drx,lam,erx) # RX gain\n",
    "Prx=(Ptx*Gtx*Grx*lam**2*sig/((4*np.pi)**3*rtx**2*rrx**2)).si # calculate Prx \n",
    "\n",
    "bw=2*D*np.cos(phi)*omega/lam # Doppler bandwidth \n",
    "Nrms=(Tsys*c.k_B*np.sqrt(bw/tau)) # rms noise power\n",
    "SNR=(Prx/Nrms).si # return signal-to-noise ratio "
   ]
  },
  {
   "cell_type": "code",
   "execution_count": 10,
   "metadata": {},
   "outputs": [
    {
     "data": {
      "text/latex": [
       "$3.855436 \\times 10^{9} \\; \\mathrm{}$"
      ],
      "text/plain": [
       "<Quantity 3.855436e+09>"
      ]
     },
     "execution_count": 10,
     "metadata": {},
     "output_type": "execute_result"
    }
   ],
   "source": [
    "SNR"
   ]
  },
  {
   "cell_type": "code",
   "execution_count": null,
   "metadata": {
    "collapsed": true
   },
   "outputs": [],
   "source": []
  }
 ],
 "metadata": {
  "kernelspec": {
   "display_name": "pmenv",
   "language": "python",
   "name": "pmenv"
  },
  "language_info": {
   "codemirror_mode": {
    "name": "ipython",
    "version": 3
   },
   "file_extension": ".py",
   "mimetype": "text/x-python",
   "name": "python",
   "nbconvert_exporter": "python",
   "pygments_lexer": "ipython3",
   "version": "3.8.11"
  }
 },
 "nbformat": 4,
 "nbformat_minor": 2
}
